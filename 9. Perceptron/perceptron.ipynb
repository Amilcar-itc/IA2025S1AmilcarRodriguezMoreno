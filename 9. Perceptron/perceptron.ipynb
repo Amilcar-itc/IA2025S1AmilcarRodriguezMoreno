{
  "nbformat": 4,
  "nbformat_minor": 0,
  "metadata": {
    "colab": {
      "provenance": []
    },
    "kernelspec": {
      "name": "python3",
      "display_name": "Python 3"
    },
    "language_info": {
      "name": "python"
    }
  },
  "cells": [
    {
      "cell_type": "code",
      "execution_count": 1,
      "metadata": {
        "colab": {
          "base_uri": "https://localhost:8080/"
        },
        "id": "z-q26jkWWkVn",
        "outputId": "f5082b8a-19b6-48a1-d0ff-557ad0247f90"
      },
      "outputs": [
        {
          "output_type": "stream",
          "name": "stdout",
          "text": [
            "Peso (w): 50.00\n",
            "Bias (b): 20.00\n",
            "Predicción para 7 km: 370.00 pesos\n"
          ]
        }
      ],
      "source": [
        "import numpy as np\n",
        "\n",
        "# Un taxi cobra 20 pesos + 50 por cada kilometro recorrido\n",
        "# generando la funcion lineal y = mX + c (m=pendiente, c=constante)\n",
        "\n",
        "# La siguiente funcion devuelve el valor de y al ingresar x en la funcion\n",
        "def costo_taxi(x):\n",
        "    return 50 * x + 20\n",
        "\n",
        "# Perceptrón simple\n",
        "class Perceptron:\n",
        "    def __init__(self):\n",
        "        self.w = np.random.randn()\n",
        "        self.b = np.random.randn()\n",
        "\n",
        "    def predict(self, x):\n",
        "        return self.w * x + self.b\n",
        "\n",
        "    def train(self, x_data, y_data, learning_rate=0.01, epochs=1000):\n",
        "        for _ in range(epochs):\n",
        "            for x, y_true in zip(x_data, y_data):\n",
        "                y_pred = self.predict(x)\n",
        "                error = y_pred - y_true\n",
        "                self.w -= learning_rate * error * x\n",
        "                self.b -= learning_rate * error\n",
        "\n",
        "    def mostrar_parametros(self):\n",
        "        print(f\"Peso (w): {self.w:.2f}\")\n",
        "        print(f\"Bias (b): {self.b:.2f}\")\n",
        "\n",
        "# Entrenamiento con la funcion costo taxi\n",
        "def entrenar_perceptron():\n",
        "    x_train = np.array([0, 1, 2, 3, 4, 5], dtype=float)\n",
        "    y_train = np.array([costo_taxi(x) for x in x_train], dtype=float)\n",
        "\n",
        "    # Entrenamiento\n",
        "    modelo = Perceptron()\n",
        "    modelo.train(x_train, y_train, learning_rate=0.01, epochs=500)\n",
        "\n",
        "    modelo.mostrar_parametros()\n",
        "\n",
        "    x_nuevo = 7\n",
        "    prediccion = modelo.predict(x_nuevo)\n",
        "    print(f\"Predicción para {x_nuevo} km: {prediccion:.2f} pesos\")\n",
        "\n",
        "# Ejecutamos todo\n",
        "entrenar_perceptron()\n"
      ]
    }
  ]
}
